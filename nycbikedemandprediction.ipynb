{
 "cells": [
  {
   "cell_type": "code",
   "execution_count": 2,
   "metadata": {
    "collapsed": false
   },
   "outputs": [
    {
     "name": "stdout",
     "output_type": "stream",
     "text": [
      "Populating the interactive namespace from numpy and matplotlib\n"
     ]
    }
   ],
   "source": [
    "%pylab inline\n",
    "import pandas as pd\n",
    "import numpy as np\n",
    "from sklearn.ensemble import RandomForestRegressor, GradientBoostingRegressor\n",
    "import matplotlib.pyplot as plt\n",
    "from os import listdir"
   ]
  },
  {
   "cell_type": "code",
   "execution_count": 3,
   "metadata": {
    "collapsed": false
   },
   "outputs": [
    {
     "name": "stdout",
     "output_type": "stream",
     "text": [
      "C:\\LeiLin\\USX28452\\Downloads\\bike_demand_prediction\n"
     ]
    }
   ],
   "source": [
    "cd C:\\LeiLin\\USX28452\\Downloads\\bike_demand_prediction"
   ]
  },
  {
   "cell_type": "code",
   "execution_count": 4,
   "metadata": {
    "collapsed": true
   },
   "outputs": [],
   "source": [
    "bikedf = pd.read_csv('NYC_hourly_bike_sharing_201307_201606.csv')"
   ]
  },
  {
   "cell_type": "code",
   "execution_count": 5,
   "metadata": {
    "collapsed": true
   },
   "outputs": [],
   "source": [
    "weatherdf = pd.read_csv('hourly_weather_20100101_20160809.csv')"
   ]
  },
  {
   "cell_type": "code",
   "execution_count": 6,
   "metadata": {
    "collapsed": false
   },
   "outputs": [],
   "source": [
    "bikedf = pd.merge(bikedf, weatherdf, how = 'left', on = ['year', 'month', 'day', 'hourofday','dayofweek'])"
   ]
  },
  {
   "cell_type": "code",
   "execution_count": 7,
   "metadata": {
    "collapsed": false
   },
   "outputs": [
    {
     "data": {
      "text/html": [
       "<div>\n",
       "<table border=\"1\" class=\"dataframe\">\n",
       "  <thead>\n",
       "    <tr style=\"text-align: right;\">\n",
       "      <th></th>\n",
       "      <th>Unnamed: 0_x</th>\n",
       "      <th>day</th>\n",
       "      <th>dayofweek</th>\n",
       "      <th>hourofday</th>\n",
       "      <th>month</th>\n",
       "      <th>year</th>\n",
       "      <th>Customer</th>\n",
       "      <th>Subscriber</th>\n",
       "      <th>Unnamed: 0_y</th>\n",
       "      <th>TemperatureF_x</th>\n",
       "      <th>Dew PointF_x</th>\n",
       "      <th>Humidity_x</th>\n",
       "      <th>Sea Level PressureIn_x</th>\n",
       "      <th>VisibilityMPH_x</th>\n",
       "      <th>Wind SpeedMPH_x</th>\n",
       "      <th>PrecipitationIn_x</th>\n",
       "    </tr>\n",
       "  </thead>\n",
       "  <tbody>\n",
       "    <tr>\n",
       "      <th>0</th>\n",
       "      <td>0</td>\n",
       "      <td>1</td>\n",
       "      <td>0</td>\n",
       "      <td>0</td>\n",
       "      <td>7</td>\n",
       "      <td>2013</td>\n",
       "      <td>90.0</td>\n",
       "      <td>139.0</td>\n",
       "      <td>30648</td>\n",
       "      <td>75.0</td>\n",
       "      <td>70.0</td>\n",
       "      <td>84.0</td>\n",
       "      <td>29.930</td>\n",
       "      <td>8.0</td>\n",
       "      <td>1.75</td>\n",
       "      <td>0.0</td>\n",
       "    </tr>\n",
       "    <tr>\n",
       "      <th>1</th>\n",
       "      <td>1</td>\n",
       "      <td>1</td>\n",
       "      <td>0</td>\n",
       "      <td>1</td>\n",
       "      <td>7</td>\n",
       "      <td>2013</td>\n",
       "      <td>35.0</td>\n",
       "      <td>71.0</td>\n",
       "      <td>30649</td>\n",
       "      <td>75.0</td>\n",
       "      <td>70.0</td>\n",
       "      <td>84.0</td>\n",
       "      <td>29.935</td>\n",
       "      <td>8.0</td>\n",
       "      <td>2.30</td>\n",
       "      <td>0.0</td>\n",
       "    </tr>\n",
       "    <tr>\n",
       "      <th>2</th>\n",
       "      <td>2</td>\n",
       "      <td>1</td>\n",
       "      <td>0</td>\n",
       "      <td>2</td>\n",
       "      <td>7</td>\n",
       "      <td>2013</td>\n",
       "      <td>34.0</td>\n",
       "      <td>40.0</td>\n",
       "      <td>30650</td>\n",
       "      <td>73.9</td>\n",
       "      <td>70.0</td>\n",
       "      <td>87.0</td>\n",
       "      <td>29.910</td>\n",
       "      <td>8.0</td>\n",
       "      <td>3.50</td>\n",
       "      <td>0.0</td>\n",
       "    </tr>\n",
       "    <tr>\n",
       "      <th>3</th>\n",
       "      <td>3</td>\n",
       "      <td>1</td>\n",
       "      <td>0</td>\n",
       "      <td>3</td>\n",
       "      <td>7</td>\n",
       "      <td>2013</td>\n",
       "      <td>21.0</td>\n",
       "      <td>20.0</td>\n",
       "      <td>30651</td>\n",
       "      <td>73.9</td>\n",
       "      <td>70.0</td>\n",
       "      <td>87.0</td>\n",
       "      <td>29.910</td>\n",
       "      <td>9.0</td>\n",
       "      <td>0.00</td>\n",
       "      <td>0.0</td>\n",
       "    </tr>\n",
       "    <tr>\n",
       "      <th>4</th>\n",
       "      <td>4</td>\n",
       "      <td>1</td>\n",
       "      <td>0</td>\n",
       "      <td>4</td>\n",
       "      <td>7</td>\n",
       "      <td>2013</td>\n",
       "      <td>14.0</td>\n",
       "      <td>23.0</td>\n",
       "      <td>30652</td>\n",
       "      <td>73.9</td>\n",
       "      <td>70.0</td>\n",
       "      <td>87.0</td>\n",
       "      <td>29.910</td>\n",
       "      <td>9.0</td>\n",
       "      <td>0.00</td>\n",
       "      <td>0.0</td>\n",
       "    </tr>\n",
       "  </tbody>\n",
       "</table>\n",
       "</div>"
      ],
      "text/plain": [
       "   Unnamed: 0_x  day  dayofweek  hourofday  month  year  Customer  Subscriber  \\\n",
       "0             0    1          0          0      7  2013      90.0       139.0   \n",
       "1             1    1          0          1      7  2013      35.0        71.0   \n",
       "2             2    1          0          2      7  2013      34.0        40.0   \n",
       "3             3    1          0          3      7  2013      21.0        20.0   \n",
       "4             4    1          0          4      7  2013      14.0        23.0   \n",
       "\n",
       "   Unnamed: 0_y  TemperatureF_x  Dew PointF_x  Humidity_x  \\\n",
       "0         30648            75.0          70.0        84.0   \n",
       "1         30649            75.0          70.0        84.0   \n",
       "2         30650            73.9          70.0        87.0   \n",
       "3         30651            73.9          70.0        87.0   \n",
       "4         30652            73.9          70.0        87.0   \n",
       "\n",
       "   Sea Level PressureIn_x  VisibilityMPH_x  Wind SpeedMPH_x  PrecipitationIn_x  \n",
       "0                  29.930              8.0             1.75                0.0  \n",
       "1                  29.935              8.0             2.30                0.0  \n",
       "2                  29.910              8.0             3.50                0.0  \n",
       "3                  29.910              9.0             0.00                0.0  \n",
       "4                  29.910              9.0             0.00                0.0  "
      ]
     },
     "execution_count": 7,
     "metadata": {},
     "output_type": "execute_result"
    }
   ],
   "source": [
    "bikedf.head()"
   ]
  },
  {
   "cell_type": "code",
   "execution_count": 23,
   "metadata": {
    "collapsed": true
   },
   "outputs": [],
   "source": [
    "def get_rmsle(y_pred, y_actual):\n",
    "    diff = y_pred - y_actual\n",
    "    mean_error = np.square(diff).mean()\n",
    "    return np.sqrt(mean_error)\n",
    "\n",
    "def get_mape(y_pred, y_actual):\n",
    "    diff = abs(y_pred - y_actual)\n",
    "    diff_per = diff[y_actual > 0] / y_actual[y_actual > 0]\n",
    "    return np.mean(diff_per)\n",
    "\n",
    "def custom_train_test_split(data, cutoff_day=25):\n",
    "    train = data[data['day'] <= cutoff_day]\n",
    "    test = data[data['day'] > cutoff_day]\n",
    "\n",
    "    return train, test\n",
    "\n",
    "def prep_data(data, input_cols):\n",
    "    X = data[input_cols].as_matrix()\n",
    "    y_c = data['Customer'].as_matrix()\n",
    "    y_s = data['Subscriber'].as_matrix()\n",
    "\n",
    "    return X, y_c, y_s\n",
    "\n",
    "def predict_on_validation_set(model, input_cols):\n",
    "\n",
    "    train, test = custom_train_test_split(bikedf) #bikedf\n",
    "\n",
    "    X_train, y_train_cus, y_train_sub = prep_data(train, input_cols)\n",
    "    X_test, y_test_cus, y_test_sub = prep_data(test, input_cols)\n",
    "\n",
    "    model_cus = model.fit(X_train, y_train_cus)\n",
    "    y_pred_cus = model_cus.predict(X_test)\n",
    "\n",
    "    model_sub = model.fit(X_train, y_train_sub)\n",
    "    y_pred_sub = model_sub.predict(X_test)\n",
    "\n",
    "    y_pred_comb = np.round(y_pred_cus + y_pred_sub)\n",
    "    y_pred_comb[y_pred_comb < 0] = 0\n",
    "    \n",
    "    # calculate the groundtruth\n",
    "    y_test_comb = y_test_cus + y_test_sub\n",
    "\n",
    "    score = get_rmsle(y_pred_comb, y_test_comb)\n",
    "    score2 = get_mape(y_pred_comb, y_test_comb)\n",
    "    \n",
    "    return (y_pred_comb, y_test_comb, score, score2)"
   ]
  },
  {
   "cell_type": "code",
   "execution_count": 24,
   "metadata": {
    "collapsed": false
   },
   "outputs": [
    {
     "name": "stdout",
     "output_type": "stream",
     "text": [
      "341.23953501\n",
      "0.726821824384\n"
     ]
    }
   ],
   "source": [
    "#n_estimators:number of trees 1000-324.13\n",
    "# min_sample_leaf：minimum leaf size\n",
    "# n_jobs: how many processor it allowed to use, -1 means no restriction\n",
    "# random_state：random seed\n",
    "\n",
    "params = {'n_estimators': 500, 'min_samples_leaf': 5, 'random_state': 0, 'min_samples_split' : 5, 'n_jobs': -1}\n",
    "rf_model = RandomForestRegressor(**params)\n",
    "rf_cols = [\n",
    "    'year', 'month', 'day', 'hourofday','dayofweek',\n",
    "    'TemperatureF_x','Dew PointF_x','Humidity_x','Sea Level PressureIn_x','VisibilityMPH_x','Wind SpeedMPH_x',\n",
    "    'PrecipitationIn_x'\n",
    "    ]\n",
    "\n",
    "(rf_p, rf_t, rf_score, rf_mape) = predict_on_validation_set(rf_model, rf_cols)\n",
    "print (rf_score)\n",
    "print (rf_mape)"
   ]
  },
  {
   "cell_type": "code",
   "execution_count": 29,
   "metadata": {
    "collapsed": false
   },
   "outputs": [
    {
     "name": "stdout",
     "output_type": "stream",
     "text": [
      "313.233575818\n"
     ]
    }
   ],
   "source": [
    "params = {'n_estimators': 150, 'max_depth': 5, 'random_state': 0, 'min_samples_leaf' : 10, 'learning_rate': 0.1, 'subsample': 0.7, 'loss': 'ls'}\n",
    "gbm_model = GradientBoostingRegressor(**params)\n",
    "gbm_cols = [\n",
    "    'year', 'month', 'day', 'hourofday','dayofweek',\n",
    "    'TemperatureF_x','Dew PointF_x','Humidity_x','Sea Level PressureIn_x','VisibilityMPH_x','Wind SpeedMPH_x',\n",
    "    'PrecipitationIn_x'\n",
    "]\n",
    "\n",
    "(gbm_p, gbm_t, gbm_score) = predict_on_validation_set(gbm_model, gbm_cols)\n",
    "print (gbm_score)"
   ]
  },
  {
   "cell_type": "code",
   "execution_count": null,
   "metadata": {
    "collapsed": true
   },
   "outputs": [],
   "source": []
  }
 ],
 "metadata": {
  "anaconda-cloud": {},
  "kernelspec": {
   "display_name": "Python [Root]",
   "language": "python",
   "name": "Python [Root]"
  },
  "language_info": {
   "codemirror_mode": {
    "name": "ipython",
    "version": 3
   },
   "file_extension": ".py",
   "mimetype": "text/x-python",
   "name": "python",
   "nbconvert_exporter": "python",
   "pygments_lexer": "ipython3",
   "version": "3.5.2"
  }
 },
 "nbformat": 4,
 "nbformat_minor": 0
}
